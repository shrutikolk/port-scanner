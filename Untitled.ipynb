{
 "cells": [
  {
   "cell_type": "code",
   "execution_count": 1,
   "id": "eeba7042",
   "metadata": {},
   "outputs": [
    {
     "name": "stdout",
     "output_type": "stream",
     "text": [
      "Invalid amount of arguments\n",
      "Syntx : python3 scanner.py <ip>\n",
      "--------------------------------------------------\n"
     ]
    },
    {
     "ename": "NameError",
     "evalue": "name 'target' is not defined",
     "output_type": "error",
     "traceback": [
      "\u001b[1;31m---------------------------------------------------------------------------\u001b[0m",
      "\u001b[1;31mNameError\u001b[0m                                 Traceback (most recent call last)",
      "\u001b[1;32m~\\AppData\\Local\\Temp/ipykernel_9236/4131863508.py\u001b[0m in \u001b[0;36m<module>\u001b[1;34m\u001b[0m\n\u001b[0;32m     15\u001b[0m \u001b[1;31m#Add a pretty banner\u001b[0m\u001b[1;33m\u001b[0m\u001b[1;33m\u001b[0m\u001b[0m\n\u001b[0;32m     16\u001b[0m \u001b[0mprint\u001b[0m\u001b[1;33m(\u001b[0m\u001b[1;34m\"-\"\u001b[0m\u001b[1;33m*\u001b[0m\u001b[1;36m50\u001b[0m\u001b[1;33m)\u001b[0m\u001b[1;33m\u001b[0m\u001b[1;33m\u001b[0m\u001b[0m\n\u001b[1;32m---> 17\u001b[1;33m \u001b[0mprint\u001b[0m\u001b[1;33m(\u001b[0m\u001b[1;34m\"Scanning target \"\u001b[0m\u001b[1;33m+\u001b[0m\u001b[0mtarget\u001b[0m\u001b[1;33m)\u001b[0m\u001b[1;33m\u001b[0m\u001b[1;33m\u001b[0m\u001b[0m\n\u001b[0m\u001b[0;32m     18\u001b[0m \u001b[0mprint\u001b[0m\u001b[1;33m(\u001b[0m\u001b[1;34m\"Time Started : \"\u001b[0m\u001b[1;33m+\u001b[0m\u001b[0mstr\u001b[0m\u001b[1;33m(\u001b[0m\u001b[0mdatetime\u001b[0m\u001b[1;33m.\u001b[0m\u001b[0mnow\u001b[0m\u001b[1;33m(\u001b[0m\u001b[1;33m)\u001b[0m\u001b[1;33m)\u001b[0m\u001b[1;33m)\u001b[0m\u001b[1;33m\u001b[0m\u001b[1;33m\u001b[0m\u001b[0m\n\u001b[0;32m     19\u001b[0m \u001b[0mprint\u001b[0m\u001b[1;33m(\u001b[0m\u001b[1;34m\"-\"\u001b[0m\u001b[1;33m*\u001b[0m\u001b[1;36m50\u001b[0m\u001b[1;33m)\u001b[0m\u001b[1;33m\u001b[0m\u001b[1;33m\u001b[0m\u001b[0m\n",
      "\u001b[1;31mNameError\u001b[0m: name 'target' is not defined"
     ]
    }
   ],
   "source": [
    "#!/bin/python\n",
    "\n",
    "import sys\n",
    "import socket\n",
    "from datetime import datetime\n",
    "\n",
    "\n",
    "#Define our target\n",
    "if len(sys.argv)==2:\n",
    "    target = socket.gethostbyname(sys.argv[1]) #Translate hostname to IPv4\n",
    "else:\n",
    "    print(\"Invalid amount of arguments\")\n",
    "    print(\"Syntx : python3 scanner.py <ip>\")\n",
    "\n",
    "#Add a pretty banner\n",
    "print(\"-\"*50)\n",
    "print(\"Scanning target \"+target)\n",
    "print(\"Time Started : \"+str(datetime.now()))\n",
    "print(\"-\"*50)\n",
    "\n",
    "try:\n",
    "    for port in range(50,444):\n",
    "        s = socket.socket(socket.AF_INET, socket.SOCK_STREAM)\n",
    "        socket.setdefaulttimeout(1)\n",
    "        result = s.connect_ex((target, port))\n",
    "        if result == 0:\n",
    "            print(\"Port {} is open\".format(port))\n",
    "        else :\n",
    "            print(\"Port {} is closed\".format(port))\n",
    "        s.close()\n",
    "\n",
    "except KeyboardInterrupt:\n",
    "    print(\"\\nExiting program\")\n",
    "    sys.exit();\n",
    "\n",
    "except socket.gaierror:\n",
    "    print(\"Hostname could not be resolved\")\n",
    "    sys.exit();\n",
    "\n",
    "except socket.error:\n",
    "    print(\"Couldn't connect to server\")\n",
    "    sys.exit();\n",
    "\n",
    "#python3 scanner.py <ip>"
   ]
  },
  {
   "cell_type": "code",
   "execution_count": null,
   "id": "c9311ad1",
   "metadata": {},
   "outputs": [],
   "source": []
  }
 ],
 "metadata": {
  "kernelspec": {
   "display_name": "Python 3 (ipykernel)",
   "language": "python",
   "name": "python3"
  },
  "language_info": {
   "codemirror_mode": {
    "name": "ipython",
    "version": 3
   },
   "file_extension": ".py",
   "mimetype": "text/x-python",
   "name": "python",
   "nbconvert_exporter": "python",
   "pygments_lexer": "ipython3",
   "version": "3.9.7"
  }
 },
 "nbformat": 4,
 "nbformat_minor": 5
}
